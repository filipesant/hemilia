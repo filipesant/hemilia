{
  "nbformat": 4,
  "nbformat_minor": 0,
  "metadata": {
    "colab": {
      "provenance": [],
      "authorship_tag": "ABX9TyPh+jRSZxi9+qi2Bj+F/4vv",
      "include_colab_link": true
    },
    "kernelspec": {
      "name": "python3",
      "display_name": "Python 3"
    },
    "language_info": {
      "name": "python"
    }
  },
  "cells": [
    {
      "cell_type": "markdown",
      "metadata": {
        "id": "view-in-github",
        "colab_type": "text"
      },
      "source": [
        "<a href=\"https://colab.research.google.com/github/filipesant/hemilia/blob/main/hemilia.ipynb\" target=\"_parent\"><img src=\"https://colab.research.google.com/assets/colab-badge.svg\" alt=\"Open In Colab\"/></a>"
      ]
    },
    {
      "cell_type": "markdown",
      "source": [
        "# Hemília\n",
        "Sua assitente pessoal para auxiliar pessoas no cuidado da Hemofilia"
      ],
      "metadata": {
        "id": "QaL53UNgUeab"
      }
    },
    {
      "cell_type": "code",
      "source": [
        "#Instalando o SDK do Google\n",
        "!pip install -q -U google-generativeai"
      ],
      "metadata": {
        "id": "qpg9QX-_fQpT"
      },
      "execution_count": 1,
      "outputs": []
    },
    {
      "cell_type": "code",
      "source": [
        "from google.colab import userdata\n",
        "GOOGLE_API_KEY = \"INSIRA_SUA_API_KEY\"\n",
        "GOOGLE_API_KEY = userdata.get('GEMINI_API_KEY')"
      ],
      "metadata": {
        "id": "MGeZJtaCbri3"
      },
      "execution_count": 2,
      "outputs": []
    },
    {
      "cell_type": "code",
      "source": [
        "#Configurações iniciais\n",
        "import google.generativeai as genai\n",
        "genai.configure(api_key=GOOGLE_API_KEY)"
      ],
      "metadata": {
        "id": "4vBvKadPfTMi"
      },
      "execution_count": 3,
      "outputs": []
    },
    {
      "cell_type": "code",
      "source": [
        "MODEL_NAME = \"gemini-1.5-pro-latest\"\n",
        "model = genai.GenerativeModel(model_name=MODEL_NAME)"
      ],
      "metadata": {
        "id": "olb-zoQPfxP5"
      },
      "execution_count": 4,
      "outputs": []
    },
    {
      "cell_type": "code",
      "source": [
        "genai.upload_file(\"images/page_6.jpeg\")"
      ],
      "metadata": {
        "id": "WBaLQQeCUYos"
      },
      "execution_count": null,
      "outputs": []
    },
    {
      "cell_type": "code",
      "source": [
        "import os\n",
        "path = \"/content/images/\"\n",
        "files = os.listdir(path)\n",
        "for img in files:\n",
        "  print(path+img)"
      ],
      "metadata": {
        "colab": {
          "base_uri": "https://localhost:8080/"
        },
        "id": "uDHFzGkqXCPh",
        "outputId": "528abe86-994e-4567-eb53-a49fb278c20f"
      },
      "execution_count": 11,
      "outputs": [
        {
          "output_type": "stream",
          "name": "stdout",
          "text": [
            "/content/images/page_6.jpeg\n",
            "/content/images/.ipynb_checkpoints\n"
          ]
        }
      ]
    }
  ]
}